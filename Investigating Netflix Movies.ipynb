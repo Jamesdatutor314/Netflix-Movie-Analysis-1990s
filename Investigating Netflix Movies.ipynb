{
 "cells": [
  {
   "cell_type": "markdown",
   "id": "df2e0cf4-1c31-47aa-ae69-67c0c8006f6a",
   "metadata": {},
   "source": [
    "# Netflix 1990s Movie Analysis\n",
    "# Author: James Weaver"
   ]
  },
  {
   "cell_type": "markdown",
   "id": "94e64084-833b-480a-939b-961cd57614f9",
   "metadata": {},
   "source": [
    "# Section 1: Importing Libraries"
   ]
  },
  {
   "cell_type": "code",
   "execution_count": 2,
   "id": "4da31113-4a96-436f-bed9-65995addac34",
   "metadata": {},
   "outputs": [],
   "source": [
    "import pandas as pd\n",
    "import matplotlib.pyplot as plt\n",
    "import seaborn as sns"
   ]
  },
  {
   "cell_type": "markdown",
   "id": "87cfb2cd-e28c-4cd8-bba5-e9c521633933",
   "metadata": {},
   "source": [
    "# Set visualizations style"
   ]
  },
  {
   "cell_type": "code",
   "execution_count": 3,
   "id": "b9a750ef-c717-43dd-b664-2b21c5e87f6a",
   "metadata": {},
   "outputs": [],
   "source": [
    "sns.set(style=\"whitegrid\")"
   ]
  },
  {
   "cell_type": "markdown",
   "id": "660d75a9-1317-4b9c-a377-dcf6164ac6d6",
   "metadata": {},
   "source": [
    "# Section 2: Load Dataset"
   ]
  },
  {
   "cell_type": "code",
   "execution_count": 5,
   "id": "e285ed01-7c4f-4987-b0ef-1db32cfd2fa1",
   "metadata": {},
   "outputs": [],
   "source": [
    "df = pd.read_csv(\"netflix_data.csv\")"
   ]
  },
  {
   "cell_type": "markdown",
   "id": "2b02467c-e0c8-4b9d-b920-4f958d80ae2c",
   "metadata": {},
   "source": [
    "# Preview the first 5 rows of the dataset"
   ]
  },
  {
   "cell_type": "code",
   "execution_count": 7,
   "id": "2f1dbb5d-b7f6-45d5-8a97-493bbcbc41da",
   "metadata": {},
   "outputs": [
    {
     "name": "stdout",
     "output_type": "stream",
     "text": [
      "Dataset Preview:\n"
     ]
    },
    {
     "data": {
      "text/html": [
       "<div>\n",
       "<style scoped>\n",
       "    .dataframe tbody tr th:only-of-type {\n",
       "        vertical-align: middle;\n",
       "    }\n",
       "\n",
       "    .dataframe tbody tr th {\n",
       "        vertical-align: top;\n",
       "    }\n",
       "\n",
       "    .dataframe thead th {\n",
       "        text-align: right;\n",
       "    }\n",
       "</style>\n",
       "<table border=\"1\" class=\"dataframe\">\n",
       "  <thead>\n",
       "    <tr style=\"text-align: right;\">\n",
       "      <th></th>\n",
       "      <th>show_id</th>\n",
       "      <th>type</th>\n",
       "      <th>title</th>\n",
       "      <th>director</th>\n",
       "      <th>cast</th>\n",
       "      <th>country</th>\n",
       "      <th>date_added</th>\n",
       "      <th>release_year</th>\n",
       "      <th>duration</th>\n",
       "      <th>description</th>\n",
       "      <th>genre</th>\n",
       "    </tr>\n",
       "  </thead>\n",
       "  <tbody>\n",
       "    <tr>\n",
       "      <th>0</th>\n",
       "      <td>s2</td>\n",
       "      <td>Movie</td>\n",
       "      <td>7:19</td>\n",
       "      <td>Jorge Michel Grau</td>\n",
       "      <td>Demián Bichir, Héctor Bonilla, Oscar Serrano, ...</td>\n",
       "      <td>Mexico</td>\n",
       "      <td>December 23, 2016</td>\n",
       "      <td>2016</td>\n",
       "      <td>93</td>\n",
       "      <td>After a devastating earthquake hits Mexico Cit...</td>\n",
       "      <td>Dramas</td>\n",
       "    </tr>\n",
       "    <tr>\n",
       "      <th>1</th>\n",
       "      <td>s3</td>\n",
       "      <td>Movie</td>\n",
       "      <td>23:59</td>\n",
       "      <td>Gilbert Chan</td>\n",
       "      <td>Tedd Chan, Stella Chung, Henley Hii, Lawrence ...</td>\n",
       "      <td>Singapore</td>\n",
       "      <td>December 20, 2018</td>\n",
       "      <td>2011</td>\n",
       "      <td>78</td>\n",
       "      <td>When an army recruit is found dead, his fellow...</td>\n",
       "      <td>Horror Movies</td>\n",
       "    </tr>\n",
       "    <tr>\n",
       "      <th>2</th>\n",
       "      <td>s4</td>\n",
       "      <td>Movie</td>\n",
       "      <td>9</td>\n",
       "      <td>Shane Acker</td>\n",
       "      <td>Elijah Wood, John C. Reilly, Jennifer Connelly...</td>\n",
       "      <td>United States</td>\n",
       "      <td>November 16, 2017</td>\n",
       "      <td>2009</td>\n",
       "      <td>80</td>\n",
       "      <td>In a postapocalyptic world, rag-doll robots hi...</td>\n",
       "      <td>Action</td>\n",
       "    </tr>\n",
       "    <tr>\n",
       "      <th>3</th>\n",
       "      <td>s5</td>\n",
       "      <td>Movie</td>\n",
       "      <td>21</td>\n",
       "      <td>Robert Luketic</td>\n",
       "      <td>Jim Sturgess, Kevin Spacey, Kate Bosworth, Aar...</td>\n",
       "      <td>United States</td>\n",
       "      <td>January 1, 2020</td>\n",
       "      <td>2008</td>\n",
       "      <td>123</td>\n",
       "      <td>A brilliant group of students become card-coun...</td>\n",
       "      <td>Dramas</td>\n",
       "    </tr>\n",
       "    <tr>\n",
       "      <th>4</th>\n",
       "      <td>s6</td>\n",
       "      <td>TV Show</td>\n",
       "      <td>46</td>\n",
       "      <td>Serdar Akar</td>\n",
       "      <td>Erdal Beşikçioğlu, Yasemin Allen, Melis Birkan...</td>\n",
       "      <td>Turkey</td>\n",
       "      <td>July 1, 2017</td>\n",
       "      <td>2016</td>\n",
       "      <td>1</td>\n",
       "      <td>A genetics professor experiments with a treatm...</td>\n",
       "      <td>International TV</td>\n",
       "    </tr>\n",
       "  </tbody>\n",
       "</table>\n",
       "</div>"
      ],
      "text/plain": [
       "  show_id     type  title           director  \\\n",
       "0      s2    Movie   7:19  Jorge Michel Grau   \n",
       "1      s3    Movie  23:59       Gilbert Chan   \n",
       "2      s4    Movie      9        Shane Acker   \n",
       "3      s5    Movie     21     Robert Luketic   \n",
       "4      s6  TV Show     46        Serdar Akar   \n",
       "\n",
       "                                                cast        country  \\\n",
       "0  Demián Bichir, Héctor Bonilla, Oscar Serrano, ...         Mexico   \n",
       "1  Tedd Chan, Stella Chung, Henley Hii, Lawrence ...      Singapore   \n",
       "2  Elijah Wood, John C. Reilly, Jennifer Connelly...  United States   \n",
       "3  Jim Sturgess, Kevin Spacey, Kate Bosworth, Aar...  United States   \n",
       "4  Erdal Beşikçioğlu, Yasemin Allen, Melis Birkan...         Turkey   \n",
       "\n",
       "          date_added  release_year  duration  \\\n",
       "0  December 23, 2016          2016        93   \n",
       "1  December 20, 2018          2011        78   \n",
       "2  November 16, 2017          2009        80   \n",
       "3    January 1, 2020          2008       123   \n",
       "4       July 1, 2017          2016         1   \n",
       "\n",
       "                                         description             genre  \n",
       "0  After a devastating earthquake hits Mexico Cit...            Dramas  \n",
       "1  When an army recruit is found dead, his fellow...     Horror Movies  \n",
       "2  In a postapocalyptic world, rag-doll robots hi...            Action  \n",
       "3  A brilliant group of students become card-coun...            Dramas  \n",
       "4  A genetics professor experiments with a treatm...  International TV  "
      ]
     },
     "execution_count": 7,
     "metadata": {},
     "output_type": "execute_result"
    }
   ],
   "source": [
    "print(\"Dataset Preview:\")\n",
    "df.head()"
   ]
  },
  {
   "cell_type": "markdown",
   "id": "5c9ef1e1-2350-4e73-abf1-2a4cc76886c2",
   "metadata": {},
   "source": [
    "# Section 3: Filter Movies Released in the 1990s"
   ]
  },
  {
   "cell_type": "code",
   "execution_count": 8,
   "id": "cc1b7b20-aa02-4304-a156-5716c517647b",
   "metadata": {},
   "outputs": [
    {
     "name": "stdout",
     "output_type": "stream",
     "text": [
      "\n",
      "Number of Movies Released in the 1990s: 183\n"
     ]
    }
   ],
   "source": [
    "df_90s = df[(df['release_year'] >= 1990) & (df['release_year'] <= 1999) & (df['type'] == 'Movie')]\n",
    "print(\"\\nNumber of Movies Released in the 1990s:\", len(df_90s))"
   ]
  },
  {
   "cell_type": "markdown",
   "id": "22683c84-6d55-416b-8dd6-1e6d65836831",
   "metadata": {},
   "source": [
    "# Section 4: Analyze Movie Durations\n",
    "# Find the most frequent movie duration"
   ]
  },
  {
   "cell_type": "code",
   "execution_count": 9,
   "id": "afc5f4a5-1483-49b9-abab-7c2ac61bd415",
   "metadata": {},
   "outputs": [
    {
     "name": "stdout",
     "output_type": "stream",
     "text": [
      "\n",
      "Top 5 Most Frequent Movie Durations in the 1990s:\n",
      "duration\n",
      "94     7\n",
      "101    6\n",
      "108    5\n",
      "93     5\n",
      "96     5\n",
      "Name: count, dtype: int64\n"
     ]
    }
   ],
   "source": [
    "duration_counts = df_90s['duration'].value_counts().head(5)\n",
    "print(\"\\nTop 5 Most Frequent Movie Durations in the 1990s:\")\n",
    "print(duration_counts)"
   ]
  },
  {
   "cell_type": "markdown",
   "id": "71ad7e8a-19c9-4810-9b82-186d4944bb27",
   "metadata": {},
   "source": [
    "# Visualization: Most common movie durations"
   ]
  },
  {
   "cell_type": "code",
   "execution_count": 10,
   "id": "d2c50eae-87a2-48b2-bbc3-9f013c124b92",
   "metadata": {},
   "outputs": [
    {
     "name": "stderr",
     "output_type": "stream",
     "text": [
      "/var/folders/17/y6yqqy7n54j29b_bxf1w8h880000gn/T/ipykernel_49120/4160121045.py:2: FutureWarning: \n",
      "\n",
      "Passing `palette` without assigning `hue` is deprecated and will be removed in v0.14.0. Assign the `x` variable to `hue` and set `legend=False` for the same effect.\n",
      "\n",
      "  sns.barplot(x=duration_counts.index, y=duration_counts.values, palette=\"coolwarm\")\n"
     ]
    },
    {
     "data": {
      "image/png": "[encoded data removed]",
      "text/plain": [
       "<Figure size 800x600 with 1 Axes>"
      ]
     },
     "metadata": {},
     "output_type": "display_data"
    }
   ],
   "source": [
    "plt.figure(figsize=(8, 6))\n",
    "sns.barplot(x=duration_counts.index, y=duration_counts.values, palette=\"coolwarm\")\n",
    "plt.title(\"Top 5 Most Frequent Movie Durations (1990s)\")\n",
    "plt.xlabel(\"Duration (minutes)\")\n",
    "plt.ylabel(\"Number of Movies\")\n",
    "plt.show()"
   ]
  },
  {
   "cell_type": "markdown",
   "id": "42954cf5-08fc-4b2e-bc4e-1e8d1ca9da3d",
   "metadata": {},
   "source": [
    "# Section 5: Count Short Action Movies (<90 min)"
   ]
  },
  {
   "cell_type": "code",
   "execution_count": 11,
   "id": "9f98670f-8cbe-42b5-86b6-8bf4c17cb55c",
   "metadata": {},
   "outputs": [
    {
     "name": "stdout",
     "output_type": "stream",
     "text": [
      "\n",
      "Number of Short Action Movies (Duration <90 min) in the 1990s: 7\n"
     ]
    }
   ],
   "source": [
    "short_action_movies = df_90s[(df_90s['genre'] == 'Action') & (df_90s['duration'] < 90)]\n",
    "\n",
    "print(\"\\nNumber of Short Action Movies (Duration <90 min) in the 1990s:\", len(short_action_movies))"
   ]
  },
  {
   "cell_type": "markdown",
   "id": "2c2bc5f1-e624-40b7-9f37-21ec07641bb9",
   "metadata": {},
   "source": [
    "# Visualization: Short Action Movies by Country"
   ]
  },
  {
   "cell_type": "code",
   "execution_count": 12,
   "id": "f0bfb064-f179-4f0a-add9-2c09e79defef",
   "metadata": {},
   "outputs": [
    {
     "data": {
      "image/png": "[encoded data removed]",
      "text/plain": [
       "<Figure size 1000x600 with 1 Axes>"
      ]
     },
     "metadata": {},
     "output_type": "display_data"
    }
   ],
   "source": [
    "plt.figure(figsize=(10, 6))\n",
    "sns.countplot(data=short_action_movies, x=\"country\", order=short_action_movies['country'].value_counts().index)\n",
    "plt.title(\"Short Action Movies by Country (1990s)\")\n",
    "plt.xticks(rotation=45)\n",
    "plt.xlabel(\"Country\")\n",
    "plt.ylabel(\"Number of Movies\")\n",
    "plt.show()"
   ]
  },
  {
   "cell_type": "markdown",
   "id": "ae87e4fa-9220-4777-9aee-25eb3429ada6",
   "metadata": {},
   "source": [
    "# Section 6: Summary Insights"
   ]
  },
  {
   "cell_type": "code",
   "execution_count": 13,
   "id": "41045629-a8c3-4c1f-8407-056217679bdc",
   "metadata": {},
   "outputs": [
    {
     "name": "stdout",
     "output_type": "stream",
     "text": [
      "\n",
      "### Key Insights ###\n",
      "1. The most frequent movie duration in the 1990s was 94 minutes.\n",
      "2. There were 7 short action movies released in the 1990s.\n",
      "3. Short action movies were primarily produced in countries like the United States and Hong Kong.\n"
     ]
    }
   ],
   "source": [
    "print(\"\\n### Key Insights ###\")\n",
    "print(\"1. The most frequent movie duration in the 1990s was 94 minutes.\")\n",
    "print(f\"2. There were {len(short_action_movies)} short action movies released in the 1990s.\")\n",
    "print(\"3. Short action movies were primarily produced in countries like the United States and Hong Kong.\")"
   ]
  },
  {
   "cell_type": "markdown",
   "id": "bf1e80b0-8024-455a-94d9-8158aad400f1",
   "metadata": {},
   "source": [
    "# Save filtered 1990s movie data as a new CSV"
   ]
  },
  {
   "cell_type": "code",
   "execution_count": 15,
   "id": "b9bcb26d-c02b-4804-9603-ed2acd525b3e",
   "metadata": {},
   "outputs": [
    {
     "name": "stdout",
     "output_type": "stream",
     "text": [
      "\n",
      "Filtered 1990s movie data saved as 'netflix_90s_movies.csv'.\n"
     ]
    }
   ],
   "source": [
    "df_90s.to_csv(\"netflix_90s_movies.csv\", index=False)\n",
    "print(\"\\nFiltered 1990s movie data saved as 'netflix_90s_movies.csv'.\")"
   ]
  }
 ],
 "metadata": {
  "kernelspec": {
   "display_name": "Python 3 (ipykernel)",
   "language": "python",
   "name": "python3"
  },
  "language_info": {
   "codemirror_mode": {
    "name": "ipython",
    "version": 3
   },
   "file_extension": ".py",
   "mimetype": "text/x-python",
   "name": "python",
   "nbconvert_exporter": "python",
   "pygments_lexer": "ipython3",
   "version": "3.9.6"
  }
 },
 "nbformat": 4,
 "nbformat_minor": 5
}
